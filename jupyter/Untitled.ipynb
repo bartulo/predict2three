{
 "cells": [
  {
   "cell_type": "code",
   "execution_count": 1,
   "metadata": {},
   "outputs": [
    {
     "data": {
      "application/vnd.jupyter.widget-view+json": {
       "model_id": "4c819a9c92814ebd8a24842d518ed73c",
       "version_major": 2,
       "version_minor": 0
      },
      "text/plain": [
       "Map(center=[40, -2], controls=(ZoomControl(options=['position', 'zoom_in_text', 'zoom_in_title', 'zoom_out_tex…"
      ]
     },
     "metadata": {},
     "output_type": "display_data"
    },
    {
     "name": "stdout",
     "output_type": "stream",
     "text": [
      "{'type': 'Feature', 'properties': {'style': {'stroke': True, 'color': '#efed69', 'weight': 4, 'opacity': 0.5, 'fill': True, 'fillColor': None, 'fillOpacity': 0.2, 'clickable': True, 'radius': 22497.689822625925}}, 'geometry': {'type': 'Point', 'coordinates': [-3.550212, 40.659667]}}\n",
      "{'type': 'Feature', 'properties': {'style': {'stroke': True, 'color': '#efed69', 'weight': 4, 'opacity': 0.5, 'fill': True, 'fillColor': None, 'fillOpacity': 0.2, 'clickable': True, 'radius': 2139.791852366491}}, 'geometry': {'type': 'Point', 'coordinates': [-3.960363, 40.775827]}}\n"
     ]
    }
   ],
   "source": [
    "from ipyleaflet import Map, basemaps, DrawControl\n",
    "map = Map(\n",
    "    center = ( 40, -2 ), \n",
    "    zoom = 8,\n",
    "    basemap = basemaps.OpenTopoMap\n",
    ")\n",
    "\n",
    "draw_control = DrawControl()\n",
    "\n",
    "draw_control.circle = {\n",
    "    \"shapeOptions\": {\n",
    "        \"fillColor\": None,\n",
    "        \"color\": \"#efed69\",\n",
    "        \"fillOpacity\": 0.2\n",
    "    }\n",
    "}\n",
    "\n",
    "coordinates = []\n",
    "\n",
    "def store_point( self, action, geo_json):\n",
    "    global coordinates\n",
    "    print(geo_json)\n",
    "    coordinates = geo_json['geometry']['coordinates']\n",
    "    \n",
    "draw_control.on_draw(store_point)\n",
    "\n",
    "map.add_control(draw_control)\n",
    "\n",
    "map"
   ]
  },
  {
   "cell_type": "code",
   "execution_count": 2,
   "metadata": {},
   "outputs": [],
   "source": [
    "coordinates = (-1.783113,  41.77781)"
   ]
  },
  {
   "cell_type": "code",
   "execution_count": 3,
   "metadata": {},
   "outputs": [
    {
     "data": {
      "text/plain": [
       "84639.88500000001"
      ]
     },
     "execution_count": 3,
     "metadata": {},
     "output_type": "execute_result"
    }
   ],
   "source": [
    "667428.720 - 582788.835"
   ]
  },
  {
   "cell_type": "code",
   "execution_count": 4,
   "metadata": {},
   "outputs": [
    {
     "data": {
      "text/plain": [
       "111481.97300000023"
      ]
     },
     "execution_count": 4,
     "metadata": {},
     "output_type": "execute_result"
    }
   ],
   "source": [
    "4650793.598 - 4539311.625"
   ]
  },
  {
   "cell_type": "code",
   "execution_count": 3,
   "metadata": {},
   "outputs": [
    {
     "name": "stdout",
     "output_type": "stream",
     "text": [
      "(-1.783113, 41.77781)\n"
     ]
    },
    {
     "name": "stderr",
     "output_type": "stream",
     "text": [
      "/home/nano/miniconda3/envs/pdalenv/lib/python3.10/site-packages/pyproj/crs/crs.py:131: FutureWarning: '+init=<authority>:<code>' syntax is deprecated. '<authority>:<code>' is the preferred initialization method. When making the change, be mindful of axis order changes: https://pyproj4.github.io/pyproj/stable/gotchas.html#axis-order-changes-in-proj-6\n",
      "  in_crs_string = _prepare_from_proj_string(in_crs_string)\n",
      "/home/nano/miniconda3/envs/pdalenv/lib/python3.10/site-packages/pyproj/crs/crs.py:131: FutureWarning: '+init=<authority>:<code>' syntax is deprecated. '<authority>:<code>' is the preferred initialization method. When making the change, be mindful of axis order changes: https://pyproj4.github.io/pyproj/stable/gotchas.html#axis-order-changes-in-proj-6\n",
      "  in_crs_string = _prepare_from_proj_string(in_crs_string)\n",
      "/tmp/ipykernel_5651/829084616.py:6: DeprecationWarning: This function is deprecated. See: https://pyproj4.github.io/pyproj/stable/gotchas.html#upgrading-to-pyproj-2-from-pyproj-1\n",
      "  x, y = transform(inProj, outProj, coordinates[0], coordinates[1])\n"
     ]
    },
    {
     "name": "stdout",
     "output_type": "stream",
     "text": [
      "591130.3822695082 611130.3822695082 4615822.764301708 4635822.764301708\n"
     ]
    },
    {
     "name": "stderr",
     "output_type": "stream",
     "text": [
      "/home/nano/miniconda3/envs/pdalenv/lib/python3.10/site-packages/pyproj/crs/crs.py:131: FutureWarning: '+init=<authority>:<code>' syntax is deprecated. '<authority>:<code>' is the preferred initialization method. When making the change, be mindful of axis order changes: https://pyproj4.github.io/pyproj/stable/gotchas.html#axis-order-changes-in-proj-6\n",
      "  in_crs_string = _prepare_from_proj_string(in_crs_string)\n",
      "/home/nano/miniconda3/envs/pdalenv/lib/python3.10/site-packages/pyproj/crs/crs.py:131: FutureWarning: '+init=<authority>:<code>' syntax is deprecated. '<authority>:<code>' is the preferred initialization method. When making the change, be mindful of axis order changes: https://pyproj4.github.io/pyproj/stable/gotchas.html#axis-order-changes-in-proj-6\n",
      "  in_crs_string = _prepare_from_proj_string(in_crs_string)\n",
      "/tmp/ipykernel_5651/829084616.py:18: DeprecationWarning: This function is deprecated. See: https://pyproj4.github.io/pyproj/stable/gotchas.html#upgrading-to-pyproj-2-from-pyproj-1\n",
      "  a, b = transform(inProj, outProj, minx, miny)\n",
      "/tmp/ipykernel_5651/829084616.py:19: DeprecationWarning: This function is deprecated. See: https://pyproj4.github.io/pyproj/stable/gotchas.html#upgrading-to-pyproj-2-from-pyproj-1\n",
      "  c, d = transform(inProj, outProj, maxx, maxy)\n"
     ]
    }
   ],
   "source": [
    "from pyproj import Proj, transform\n",
    "\n",
    "print(coordinates)\n",
    "inProj = Proj(init='epsg:4326')\n",
    "outProj = Proj(init='epsg:25830')\n",
    "x, y = transform(inProj, outProj, coordinates[0], coordinates[1])\n",
    "\n",
    "width = 20000\n",
    "\n",
    "minx = x - width / 2\n",
    "maxx = x + width / 2\n",
    "miny = y - width / 2\n",
    "maxy = y + width / 2\n",
    "\n",
    "inProj = Proj(init='epsg:25830')\n",
    "outProj = Proj(init='epsg:4258')\n",
    "\n",
    "a, b = transform(inProj, outProj, minx, miny)\n",
    "c, d = transform(inProj, outProj, maxx, maxy)\n",
    "\n",
    "bbox = (a, b, c, d)\n",
    "print(minx, maxx, miny, maxy)"
   ]
  },
  {
   "cell_type": "code",
   "execution_count": 4,
   "metadata": {},
   "outputs": [
    {
     "name": "stdout",
     "output_type": "stream",
     "text": [
      "(-1.9549499468516582, 41.88896708076769, -1.6109396244033987, 41.666517497597304)\n"
     ]
    }
   ],
   "source": [
    "j = (bbox[0] - 0.05, bbox[1] + 0.2, bbox[2] + 0.05, bbox[3] - 0.2)\n",
    "print(j)"
   ]
  },
  {
   "cell_type": "code",
   "execution_count": 8,
   "metadata": {},
   "outputs": [
    {
     "data": {
      "text/plain": [
       "['GEOTIFFINT16', 'ArcGrid', 'png', 'GEOTIFF_RGB']"
      ]
     },
     "metadata": {},
     "output_type": "display_data"
    },
    {
     "data": {
      "text/plain": [
       "<function BufferedWriter.close>"
      ]
     },
     "execution_count": 8,
     "metadata": {},
     "output_type": "execute_result"
    }
   ],
   "source": [
    "from owslib.wcs import WebCoverageService\n",
    "wcs = WebCoverageService('https://servicios.idee.es/wcs-inspire/mdt',version='1.0.0')\n",
    "\n",
    "crs = wcs['Elevacion25830_25'].boundingboxes[0]['nativeSrs']\n",
    "list(wcs.contents)\n",
    "display(wcs['Elevacion25830_25'].supportedFormats)\n",
    "# # content = wcs.getCoverage(identifier='Elevacion25830_5', bbox=bbox, width=400, height=400, crs=crs, format='GEOTIFFINT16')\n",
    "# # out = open('prueba.tif','wb')\n",
    "\n",
    "# # content = wcs.getCoverage(identifier='Elevacion25830_25', bbox=bbox, width=400, height=400, crs=crs, format='application/asc')\n",
    "content = wcs.getCoverage(identifier='Elevacion25830_25', bbox=j, width=410, height=410, crs=crs, format='GEOTIFFINT16')\n",
    "\n",
    "out = open('../mdt.tif', 'wb')\n",
    "out.write(content.read())\n",
    "out.close"
   ]
  },
  {
   "cell_type": "code",
   "execution_count": 17,
   "metadata": {},
   "outputs": [],
   "source": [
    "\n",
    "from owslib.wms import WebMapService\n",
    "wms = WebMapService('https://www.ign.es/wms-inspire/mapa-raster', version='1.1.1')\n",
    "list(wms.contents)\n",
    "wms.getOperationByName('GetMap').formatOptions\n",
    "img = wms.getmap( layers=['mtn_rasterizado'],\n",
    "                srs='EPSG:25830',\n",
    "                bbox=(minx, miny, maxx, maxy),\n",
    "                format='image/png',\n",
    "                size=(2048, 2048)\n",
    "                )\n",
    "out = open('../topo.png', 'wb')\n",
    "out.write(img.read())\n",
    "out.close()"
   ]
  },
  {
   "cell_type": "code",
   "execution_count": 7,
   "metadata": {},
   "outputs": [],
   "source": [
    "from owslib.wms import WebMapService\n",
    "wms = WebMapService('https://www.ign.es/wms-inspire/pnoa-ma', version='1.1.1')\n",
    "list(wms.contents)\n",
    "wms.getOperationByName('GetMap').formatOptions\n",
    "img = wms.getmap( layers=['OI.OrthoimageCoverage'],\n",
    "                srs='EPSG:25830',\n",
    "                bbox=(minx, miny, maxx, maxy),\n",
    "                format='image/png',\n",
    "                size=(1024,1024)\n",
    "                )\n",
    "out = open('pnoa.png', 'wb')\n",
    "out.write(img.read())\n",
    "out.close()"
   ]
  },
  {
   "cell_type": "code",
   "execution_count": 5,
   "metadata": {},
   "outputs": [
    {
     "name": "stdout",
     "output_type": "stream",
     "text": [
      "\u001b[K\u001b]0;root@ef59f7124d18: /\u0007root@ef59f7124d18:/# ^C\n",
      "\n",
      "\u001b]0;root@ef59f7124d18: /\u0007root@ef59f7124d18:/# "
     ]
    }
   ],
   "source": [
    "arguments = 'run -it -v /home/nano/firespread/src/images/:/home/nano usdaarsnwrc/katana'\n",
    "!docker {arguments}"
   ]
  }
 ],
 "metadata": {
  "kernelspec": {
   "display_name": "Python 3",
   "language": "python",
   "name": "python3"
  },
  "language_info": {
   "codemirror_mode": {
    "name": "ipython",
    "version": 3
   },
   "file_extension": ".py",
   "mimetype": "text/x-python",
   "name": "python",
   "nbconvert_exporter": "python",
   "pygments_lexer": "ipython3",
   "version": "3.10.2"
  }
 },
 "nbformat": 4,
 "nbformat_minor": 4
}
